{
 "cells": [
  {
   "cell_type": "code",
   "execution_count": 4,
   "id": "be9954be-230f-4f5a-b450-598c5b5473b1",
   "metadata": {},
   "outputs": [],
   "source": [
    "# Guess the red ball game\n",
    "\n",
    "# Red ball\n",
    "mylist = [' ','O',' ']   "
   ]
  },
  {
   "cell_type": "code",
   "execution_count": 5,
   "id": "152705ca-fb29-490f-bcd0-53f6d9861895",
   "metadata": {},
   "outputs": [],
   "source": [
    "from random import shuffle"
   ]
  },
  {
   "cell_type": "code",
   "execution_count": 9,
   "id": "011691c6-8723-4c97-95e3-377b8ec704b5",
   "metadata": {},
   "outputs": [
    {
     "data": {
      "text/plain": [
       "[' ', ' ', 'O']"
      ]
     },
     "execution_count": 9,
     "metadata": {},
     "output_type": "execute_result"
    }
   ],
   "source": [
    "# shuffling list  \n",
    "\n",
    "def shuffle_list(mylist):\n",
    "    shuffle(mylist)\n",
    "    \n",
    "    return mylist\n",
    "\n",
    "shuffle_list(mylist)"
   ]
  },
  {
   "cell_type": "code",
   "execution_count": 45,
   "id": "ff850855-ee32-4ba5-ae3d-0dac4f9fc8d0",
   "metadata": {},
   "outputs": [
    {
     "name": "stdin",
     "output_type": "stream",
     "text": [
      "Enter a Number to Guess!:  3\n"
     ]
    },
    {
     "name": "stdout",
     "output_type": "stream",
     "text": [
      "Please Enter a number between 0, 1, 2.\n"
     ]
    },
    {
     "name": "stdin",
     "output_type": "stream",
     "text": [
      "Enter a Number to Guess!:  0\n"
     ]
    },
    {
     "data": {
      "text/plain": [
       "0"
      ]
     },
     "execution_count": 45,
     "metadata": {},
     "output_type": "execute_result"
    }
   ],
   "source": [
    "# Player Guess\n",
    "\n",
    "def player_guess():\n",
    "    while True:\n",
    "        guess = ''\n",
    "        guess = int(input(\"Enter a Number to Guess!: \"))\n",
    "        \n",
    "        if guess in [0,1,2]:\n",
    "            break\n",
    "        \n",
    "        else:\n",
    "            print(\"Please Enter a number between 0, 1, 2.\")\n",
    "            \n",
    "    return guess\n",
    "            \n",
    "player_guess()"
   ]
  },
  {
   "cell_type": "code",
   "execution_count": 46,
   "id": "7e293052-d32a-4dbd-b54a-d42849254c68",
   "metadata": {},
   "outputs": [],
   "source": [
    "# checking our guess\n",
    "\n",
    "def check_guess(mylist,guess):\n",
    "    if mylist[guess]== 'O':\n",
    "        print(\"Correct Guess !!!\")\n",
    "    else:\n",
    "        print(\"WRONG Guess\")\n",
    "        print(mylist)"
   ]
  },
  {
   "cell_type": "code",
   "execution_count": 48,
   "id": "072692a5-c59c-46a9-87cf-5b6b9dc11c09",
   "metadata": {},
   "outputs": [
    {
     "name": "stdin",
     "output_type": "stream",
     "text": [
      "Enter a Number to Guess!:  6\n"
     ]
    },
    {
     "name": "stdout",
     "output_type": "stream",
     "text": [
      "Please Enter a number between 0, 1, 2.\n"
     ]
    },
    {
     "name": "stdin",
     "output_type": "stream",
     "text": [
      "Enter a Number to Guess!:  3\n"
     ]
    },
    {
     "name": "stdout",
     "output_type": "stream",
     "text": [
      "Please Enter a number between 0, 1, 2.\n"
     ]
    },
    {
     "name": "stdin",
     "output_type": "stream",
     "text": [
      "Enter a Number to Guess!:  2\n"
     ]
    },
    {
     "name": "stdout",
     "output_type": "stream",
     "text": [
      "WRONG Guess\n",
      "['O', ' ', ' ']\n"
     ]
    }
   ],
   "source": [
    "mixed_list = shuffle_list(mylist)\n",
    "correct_guess = player_guess()\n",
    "check_guess(mixed_list,correct_guess)"
   ]
  },
  {
   "cell_type": "code",
   "execution_count": null,
   "id": "c28b592d-0824-4d6d-b791-090c6944fc42",
   "metadata": {},
   "outputs": [],
   "source": []
  }
 ],
 "metadata": {
  "kernelspec": {
   "display_name": "Python 3 (ipykernel)",
   "language": "python",
   "name": "python3"
  },
  "language_info": {
   "codemirror_mode": {
    "name": "ipython",
    "version": 3
   },
   "file_extension": ".py",
   "mimetype": "text/x-python",
   "name": "python",
   "nbconvert_exporter": "python",
   "pygments_lexer": "ipython3",
   "version": "3.9.12"
  }
 },
 "nbformat": 4,
 "nbformat_minor": 5
}
